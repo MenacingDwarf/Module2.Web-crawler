{
 "cells": [
  {
   "cell_type": "code",
   "execution_count": 1,
   "id": "06f6e902",
   "metadata": {},
   "outputs": [],
   "source": [
    "import WebCrawler as wc"
   ]
  },
  {
   "cell_type": "code",
   "execution_count": 2,
   "id": "3a5b1973",
   "metadata": {},
   "outputs": [
    {
     "name": "stdout",
     "output_type": "stream",
     "text": [
      "Crawling: https://ascotbailey2.carbonmade.com/\n",
      "Crawling: https://ascotbailey2.carbonmade.com/\n",
      "Crawling: https://ascotbailey2.carbonmade.com/about\n",
      "Crawling: https://ascotbailey2.carbonmade.com/contact\n",
      "Crawling: https://ascotbailey2.carbonmade.com/projects/7227080\n",
      "Crawling: https://ascotbailey2.carbonmade.com/projects/7227077\n",
      "Crawling: https://ascotbailey2.carbonmade.com/projects/6924174\n",
      "Crawling: https://ascotbailey2.carbonmade.com/projects/6918320\n",
      "Crawling: https://ascotbailey2.carbonmade.com/projects/6928282\n",
      "Crawling: https://ascotbailey2.carbonmade.com/projects/6918528\n",
      "Crawling: https://ascotbailey2.carbonmade.com/projects/6926565\n",
      "Crawling: https://ascotbailey2.carbonmade.com/about\n",
      "Crawling: https://ascotbailey2.carbonmade.com/contact\n"
     ]
    }
   ],
   "source": [
    "crawler = wc.WebCrawler(\"https://ascotbailey2.carbonmade.com/\")\n",
    "crawler.run()"
   ]
  },
  {
   "cell_type": "code",
   "execution_count": 3,
   "id": "a66c34ee",
   "metadata": {},
   "outputs": [
    {
     "name": "stdout",
     "output_type": "stream",
     "text": [
      "Total visited urls: 28\n",
      "Total internal urls: 13\n",
      "Total external urls: 15\n"
     ]
    }
   ],
   "source": [
    "print(f'Total visited urls: {len(crawler.full_urls)}')\n",
    "print(f'Total internal urls: {len(crawler.get_internal_urls())}')\n",
    "print(f'Total external urls: {len(crawler.get_external_urls())}')"
   ]
  },
  {
   "cell_type": "code",
   "execution_count": null,
   "id": "babe96a5",
   "metadata": {},
   "outputs": [],
   "source": []
  }
 ],
 "metadata": {
  "kernelspec": {
   "display_name": "Python 3 (ipykernel)",
   "language": "python",
   "name": "python3"
  },
  "language_info": {
   "codemirror_mode": {
    "name": "ipython",
    "version": 3
   },
   "file_extension": ".py",
   "mimetype": "text/x-python",
   "name": "python",
   "nbconvert_exporter": "python",
   "pygments_lexer": "ipython3",
   "version": "3.9.7"
  }
 },
 "nbformat": 4,
 "nbformat_minor": 5
}
