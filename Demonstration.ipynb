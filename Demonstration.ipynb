{
 "cells": [
  {
   "cell_type": "markdown",
   "id": "44cb93cc",
   "metadata": {},
   "source": [
    "# Импорт внутренних модулей"
   ]
  },
  {
   "cell_type": "code",
   "execution_count": 7,
   "id": "06f6e902",
   "metadata": {},
   "outputs": [],
   "source": [
    "import WebCrawler as wc\n",
    "from tests import *"
   ]
  },
  {
   "cell_type": "markdown",
   "id": "66fe1e14",
   "metadata": {},
   "source": [
    "# Запуск поискового робота"
   ]
  },
  {
   "cell_type": "code",
   "execution_count": 8,
   "id": "3a5b1973",
   "metadata": {},
   "outputs": [
    {
     "name": "stdout",
     "output_type": "stream",
     "text": [
      "Crawling: 1 of 1\n",
      "Crawling: 2 of 4\n",
      "Crawling: 3 of 6\n",
      "Crawling: 4 of 6\n",
      "Crawling: 5 of 6\n",
      "Crawling: 6 of 5\n"
     ]
    }
   ],
   "source": [
    "crawler = wc.WebCrawler(\"https://ramenslurp.ru/\")\n",
    "crawler.run()"
   ]
  },
  {
   "cell_type": "code",
   "execution_count": 9,
   "id": "a66c34ee",
   "metadata": {},
   "outputs": [
    {
     "name": "stdout",
     "output_type": "stream",
     "text": [
      "\n",
      "--------- CRAWLER REPORT --------\n",
      "\n",
      "Total visited urls: 9\n",
      "Total unique internal urls: 5\n",
      "Total unique external urls: 4\n",
      "Total external urls: 26\n",
      "Total unique document urls: 0\n",
      "\n",
      "--------- INTERNAL URLS ---------\n",
      "\n",
      "    OK    https://ramenslurp.ru/menu\n",
      "    OK    https://ramenslurp.ru/contacts\n",
      "    OK    https://ramenslurp.ru/delivery\n",
      "NOT OK    https://ramenslurp.ru/drinks\n",
      "    OK    https://ramenslurp.ru/calorii\n",
      "\n",
      "--------- EXTERNAL URLS ---------\n",
      "\n",
      "    OK    https://www.facebook.com/ramenslurp/\n",
      "    OK    https://www.instagram.com/ramenslurp/\n",
      "    OK    https://tilda.cc/?upm=741082\n",
      "    OK    https://eda.yandex/restaurant/slurp\n",
      "\n",
      "--------- DOCUMENT URLS ---------\n",
      "\n"
     ]
    }
   ],
   "source": [
    "crawler.report()"
   ]
  },
  {
   "cell_type": "markdown",
   "id": "ba1a608f",
   "metadata": {},
   "source": [
    "# Запуск тестов"
   ]
  },
  {
   "cell_type": "markdown",
   "id": "8b0aa59c",
   "metadata": {},
   "source": [
    "При желании можно посмотреть список доступных тестов:"
   ]
  },
  {
   "cell_type": "code",
   "execution_count": 10,
   "id": "22a0fd4c",
   "metadata": {},
   "outputs": [
    {
     "data": {
      "text/plain": [
       "[tests.TestPortfolioWebsite, tests.TestSlurpWebsite]"
      ]
     },
     "execution_count": 10,
     "metadata": {},
     "output_type": "execute_result"
    }
   ],
   "source": [
    "get_list_of_tests()"
   ]
  },
  {
   "cell_type": "markdown",
   "id": "16dde84c",
   "metadata": {},
   "source": [
    "Можно запустить все существующие тесты:"
   ]
  },
  {
   "cell_type": "code",
   "execution_count": 11,
   "id": "40b37509",
   "metadata": {},
   "outputs": [
    {
     "name": "stdout",
     "output_type": "stream",
     "text": [
      "Running Test Case: TestPortfolioWebsite...\n"
     ]
    },
    {
     "name": "stderr",
     "output_type": "stream",
     "text": [
      "..."
     ]
    },
    {
     "name": "stdout",
     "output_type": "stream",
     "text": [
      "Running Test Case: TestSlurpWebsite...\n"
     ]
    },
    {
     "name": "stderr",
     "output_type": "stream",
     "text": [
      "...\n",
      "----------------------------------------------------------------------\n",
      "Ran 6 tests in 14.635s\n",
      "\n",
      "OK\n"
     ]
    }
   ],
   "source": [
    "run_all_tests()"
   ]
  },
  {
   "cell_type": "markdown",
   "id": "f9ba97e6",
   "metadata": {},
   "source": [
    "А можно лишь конкретный набор тестов, для какого-то одного сайта:"
   ]
  },
  {
   "cell_type": "code",
   "execution_count": 12,
   "id": "328b34d3",
   "metadata": {},
   "outputs": [
    {
     "name": "stdout",
     "output_type": "stream",
     "text": [
      "Running Test Case: TestSlurpWebsite...\n"
     ]
    },
    {
     "name": "stderr",
     "output_type": "stream",
     "text": [
      "...\n",
      "----------------------------------------------------------------------\n",
      "Ran 3 tests in 3.842s\n",
      "\n",
      "OK\n"
     ]
    }
   ],
   "source": [
    "run_single_test(TestSlurpWebsite)"
   ]
  }
 ],
 "metadata": {
  "kernelspec": {
   "display_name": "Python 3 (ipykernel)",
   "language": "python",
   "name": "python3"
  },
  "language_info": {
   "codemirror_mode": {
    "name": "ipython",
    "version": 3
   },
   "file_extension": ".py",
   "mimetype": "text/x-python",
   "name": "python",
   "nbconvert_exporter": "python",
   "pygments_lexer": "ipython3",
   "version": "3.9.7"
  }
 },
 "nbformat": 4,
 "nbformat_minor": 5
}
