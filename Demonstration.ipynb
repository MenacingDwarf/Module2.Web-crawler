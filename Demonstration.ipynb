{
 "cells": [
  {
   "cell_type": "code",
   "execution_count": 1,
   "id": "06f6e902",
   "metadata": {},
   "outputs": [],
   "source": [
    "import WebCrawler as wc"
   ]
  },
  {
   "cell_type": "code",
   "execution_count": 2,
   "id": "3a5b1973",
   "metadata": {},
   "outputs": [
    {
     "name": "stdout",
     "output_type": "stream",
     "text": [
      "Crawling: 1 of 1\n",
      "Crawling: 2 of 10\n",
      "Crawling: 3 of 10\n",
      "Crawling: 4 of 10\n",
      "Crawling: 5 of 10\n",
      "Crawling: 6 of 10\n",
      "Crawling: 7 of 10\n",
      "Crawling: 8 of 10\n",
      "Crawling: 9 of 10\n",
      "Crawling: 10 of 10\n"
     ]
    }
   ],
   "source": [
    "crawler = wc.WebCrawler(\"https://ascotbailey2.carbonmade.com/\")\n",
    "crawler.run()"
   ]
  },
  {
   "cell_type": "code",
   "execution_count": 3,
   "id": "a66c34ee",
   "metadata": {},
   "outputs": [
    {
     "name": "stdout",
     "output_type": "stream",
     "text": [
      "\n",
      "--------- CRAWLER REPORT --------\n",
      "\n",
      "Total visited urls: 22\n",
      "Total internal urls: 9\n",
      "Total external urls: 13\n",
      "\n",
      "--------- INTERNAL URLS ---------\n",
      "\n",
      "    OK    https://ascotbailey2.carbonmade.com/about\n",
      "    OK    https://ascotbailey2.carbonmade.com/contact\n",
      "    OK    https://ascotbailey2.carbonmade.com/projects/7227080\n",
      "    OK    https://ascotbailey2.carbonmade.com/projects/7227077\n",
      "    OK    https://ascotbailey2.carbonmade.com/projects/6924174\n",
      "    OK    https://ascotbailey2.carbonmade.com/projects/6918320\n",
      "    OK    https://ascotbailey2.carbonmade.com/projects/6928282\n",
      "    OK    https://ascotbailey2.carbonmade.com/projects/6918528\n",
      "    OK    https://ascotbailey2.carbonmade.com/projects/6926565\n",
      "\n",
      "--------- EXTERNAL URLS ---------\n",
      "\n",
      "    OK    https://carbonmade.com/?campaign=c3-footer\n",
      "NOT OK    https://www.linkedin.com/in/vladimir-vatsurin\n",
      "    OK    https://twitter.com/ascotbailey2\n",
      "    OK    https://vk.com/sidebail\n",
      "    OK    https://carbonmade-media.accelerator.net/37589011?download=resume.pdf\n",
      "    OK    https://play.google.com/store/apps/details?id=com.burninghouse.CozmoHammer\n",
      "    OK    https://sidebail.itch.io/spacepirate\n",
      "    OK    https://youtu.be/fmOSKYZ7ktU\n",
      "    OK    https://dtf.ru/s/festival/132902-space-pirate-ot-tz-do-igry-dlya-dzhema-za-6-dney\n",
      "    OK    https://www.smashreality.com\n",
      "    OK    https://youtu.be/tUDjYM5Ur7Q\n",
      "NOT OK    https://play.google.com/store/apps/details?id=com.memegames.game\n",
      "    OK    https://play.google.com/apps/test/RQed21T5IDA/ahACN8eAq1L8-w50pGiTaQx4iniMNL6xtY7GtzBoPIo95qbNR6PklNyCSVdpyjTet1Cie-umkjMBCFJLOkXQKsgBly\n"
     ]
    }
   ],
   "source": [
    "crawler.report()"
   ]
  }
 ],
 "metadata": {
  "kernelspec": {
   "display_name": "Python 3 (ipykernel)",
   "language": "python",
   "name": "python3"
  },
  "language_info": {
   "codemirror_mode": {
    "name": "ipython",
    "version": 3
   },
   "file_extension": ".py",
   "mimetype": "text/x-python",
   "name": "python",
   "nbconvert_exporter": "python",
   "pygments_lexer": "ipython3",
   "version": "3.9.7"
  }
 },
 "nbformat": 4,
 "nbformat_minor": 5
}
